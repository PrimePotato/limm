{
 "cells": [
  {
   "cell_type": "code",
   "execution_count": 94,
   "metadata": {
    "collapsed": false
   },
   "outputs": [],
   "source": [
    "import main\n",
    "import pandas as pd\n",
    "import matplotlib.pyplot as plt\n",
    "import numpy as np"
   ]
  },
  {
   "cell_type": "code",
   "execution_count": 2,
   "metadata": {
    "collapsed": true
   },
   "outputs": [],
   "source": [
    "%matplotlib inline"
   ]
  },
  {
   "cell_type": "code",
   "execution_count": 3,
   "metadata": {
    "collapsed": false
   },
   "outputs": [
    {
     "name": "stdout",
     "output_type": "stream",
     "text": [
      "***Fetching Email***\n",
      "***Identified 496 email(s)***\n",
      "Disposal added with UID b'58'\n",
      "Extract post code issue 14 Berkeley Street, W1\n",
      "Extract post code issue 14 Berkeley Street, W1\n",
      "Extract post code issue 14 Berkeley Street, W1\n",
      "Disposal added with UID b'124'\n",
      "Acquisition added with UID b'400'\n",
      "Acquisition added with UID b'159'\n",
      "Acquisition added with UID b'42'\n",
      "Disposal added with UID b'74'\n",
      "Acquisition added with UID b'84'\n",
      "Acquisition added with UID b'337'\n",
      "Disposal added with UID b'187'\n",
      "Acquisition added with UID b'386'\n",
      "Acquisition added with UID b'104'\n",
      "Acquisition added with UID b'62'\n",
      "Acquisition added with UID b'36'\n",
      "Acquisition added with UID b'264'\n",
      "Acquisition added with UID b'317'\n",
      "Acquisition added with UID b'127'\n",
      "Disposal added with UID b'38'\n",
      "Disposal added with UID b'353'\n",
      "Extract post code issue 1 Bentinck Street, W1\n",
      "Extract post code issue 1 Bentinck Street, W1\n",
      "Extract post code issue 1 Bentinck Street, W1\n",
      "Disposal added with UID b'384'\n",
      "Acquisition added with UID b'244'\n",
      "Disposal added with UID b'479'\n",
      "Acquisition added with UID b'192'\n",
      "Acquisition added with UID b'14'\n",
      "Acquisition added with UID b'485'\n",
      "Acquisition added with UID b'423'\n",
      "Area not recognized: St James\\'s\n",
      "Acquisition added with UID b'419'\n",
      "Acquisition added with UID b'349'\n",
      "Acquisition added with UID b'250'\n",
      "Disposal added with UID b'111'\n",
      "Acquisition added with UID b'453'\n",
      "Acquisition added with UID b'109'\n",
      "Disposal added with UID b'214'\n",
      "Acquisition added with UID b'208'\n",
      "Acquisition added with UID b'213'\n",
      "Acquisition added with UID b'107'\n",
      "Acquisition added with UID b'181'\n",
      "Acquisition added with UID b'108'\n",
      "Acquisition added with UID b'474'\n",
      "Disposal added with UID b'2'\n",
      "Area not recognized: St James\\'s\n",
      "Acquisition added with UID b'294'\n",
      "Area not recognized: St James\\'s\n",
      "Acquisition added with UID b'10'\n",
      "Disposal added with UID b'389'\n",
      "Area not recognized: St James\\'s\n",
      "Acquisition added with UID b'496'\n",
      "Acquisition added with UID b'424'\n",
      "Disposal added with UID b'486'\n",
      "Disposal added with UID b'199'\n",
      "Acquisition added with UID b'362'\n",
      "Acquisition added with UID b'85'\n",
      "Acquisition added with UID b'450'\n",
      "Area not recognized: St James\\'s\n",
      "Acquisition added with UID b'15'\n",
      "Acquisition added with UID b'360'\n",
      "Area not recognized: St James\\'s\n",
      "Acquisition added with UID b'276'\n",
      "Disposal added with UID b'392'\n",
      "Acquisition added with UID b'72'\n",
      "Disposal added with UID b'375'\n",
      "Unrecognised failed to upload with UID b'4'\n",
      "Acquisition added with UID b'361'\n",
      "Acquisition added with UID b'438'\n",
      "Acquisition added with UID b'249'\n",
      "Acquisition added with UID b'137'\n",
      "Area not recognized: St James\\'s\n",
      "Acquisition added with UID b'315'\n",
      "Disposal added with UID b'163'\n",
      "Acquisition added with UID b'133'\n",
      "Acquisition added with UID b'266'\n",
      "Disposal added with UID b'116'\n",
      "Disposal added with UID b'27'\n",
      "Acquisition added with UID b'99'\n",
      "Disposal added with UID b'206'\n",
      "Acquisition added with UID b'494'\n",
      "Area not recognized: St James\\'s\n",
      "Acquisition added with UID b'371'\n",
      "Acquisition added with UID b'205'\n",
      "Acquisition added with UID b'416'\n",
      "Disposal added with UID b'314'\n",
      "Acquisition added with UID b'341'\n",
      "Acquisition added with UID b'274'\n",
      "Acquisition added with UID b'425'\n",
      "Acquisition added with UID b'23'\n",
      "Acquisition added with UID b'1'\n",
      "Disposal added with UID b'89'\n",
      "Disposal added with UID b'292'\n",
      "Acquisition added with UID b'335'\n",
      "Disposal added with UID b'275'\n",
      "Area not recognized: St James\\'s\n",
      "Acquisition added with UID b'475'\n",
      "Acquisition added with UID b'484'\n",
      "Disposal added with UID b'169'\n",
      "Area not recognized: St James\\'s\n",
      "Acquisition added with UID b'70'\n",
      "Acquisition added with UID b'96'\n",
      "Disposal added with UID b'320'\n",
      "Disposal added with UID b'132'\n",
      "Acquisition added with UID b'299'\n",
      "Acquisition added with UID b'209'\n",
      "Disposal added with UID b'140'\n",
      "Area not recognized: St James\\'s\n",
      "Acquisition added with UID b'18'\n",
      "Area not recognized: St James\\'s\n",
      "Acquisition added with UID b'372'\n",
      "Area not recognized: St James\\'s\n",
      "Acquisition added with UID b'272'\n",
      "Disposal added with UID b'412'\n",
      "Area not recognized: St James\\'s\n",
      "Acquisition added with UID b'162'\n",
      "Area not recognized: St James\\'s\n",
      "Acquisition added with UID b'25'\n",
      "Acquisition added with UID b'319'\n",
      "Acquisition added with UID b'469'\n",
      "Acquisition added with UID b'257'\n",
      "Disposal added with UID b'376'\n",
      "Disposal added with UID b'407'\n",
      "Disposal added with UID b'81'\n",
      "Area not recognized: St James\\'s\n",
      "Acquisition added with UID b'354'\n",
      "Disposal added with UID b'126'\n",
      "Disposal added with UID b'152'\n",
      "Disposal added with UID b'464'\n",
      "Acquisition added with UID b'268'\n",
      "Disposal added with UID b'17'\n",
      "Acquisition added with UID b'139'\n",
      "Area not recognized: St James\\'s\n",
      "Acquisition added with UID b'460'\n",
      "Acquisition added with UID b'200'\n",
      "Acquisition added with UID b'185'\n",
      "Acquisition added with UID b'334'\n",
      "Area not recognized: St James\\'s\n",
      "Acquisition added with UID b'378'\n",
      "Acquisition added with UID b'307'\n",
      "Disposal added with UID b'26'\n",
      "Disposal added with UID b'344'\n",
      "Acquisition added with UID b'165'\n",
      "Acquisition added with UID b'131'\n",
      "Acquisition added with UID b'171'\n",
      "Acquisition added with UID b'237'\n",
      "Area not recognized: St James\\'s\n",
      "Acquisition added with UID b'278'\n",
      "Acquisition added with UID b'238'\n",
      "Disposal added with UID b'443'\n",
      "Area not recognized: St James\\'s\n",
      "Acquisition added with UID b'285'\n",
      "Acquisition added with UID b'47'\n",
      "Disposal added with UID b'247'\n",
      "Acquisition added with UID b'329'\n",
      "Acquisition added with UID b'32'\n",
      "Acquisition added with UID b'239'\n",
      "Acquisition added with UID b'309'\n",
      "Acquisition added with UID b'94'\n",
      "Disposal added with UID b'398'\n",
      "Disposal added with UID b'243'\n",
      "Area not recognized: St James\\'s\n",
      "Acquisition added with UID b'195'\n",
      "Acquisition added with UID b'385'\n",
      "Disposal added with UID b'356'\n",
      "Disposal added with UID b'367'\n",
      "Acquisition added with UID b'442'\n",
      "Acquisition added with UID b'256'\n",
      "Acquisition added with UID b'68'\n",
      "Acquisition added with UID b'77'\n",
      "Disposal added with UID b'418'\n",
      "Disposal added with UID b'433'\n",
      "Acquisition added with UID b'207'\n",
      "Acquisition added with UID b'283'\n",
      "Area not recognized: St James\\'s\n",
      "Acquisition added with UID b'179'\n",
      "Area not recognized: St James\\'s\n",
      "Acquisition added with UID b'291'\n",
      "Acquisition added with UID b'227'\n",
      "Disposal added with UID b'156'\n",
      "Disposal added with UID b'50'\n",
      "Disposal added with UID b'158'\n",
      "Area not recognized: St James\\'s\n",
      "Acquisition added with UID b'24'\n",
      "Acquisition added with UID b'255'\n",
      "Disposal added with UID b'226'\n",
      "Acquisition added with UID b'79'\n",
      "Area not recognized: St James\\'s\n",
      "Acquisition added with UID b'235'\n",
      "Area not recognized: St James\\'s\n",
      "Acquisition added with UID b'67'\n",
      "Acquisition added with UID b'218'\n",
      "Acquisition added with UID b'312'\n",
      "Disposal added with UID b'280'\n",
      "Acquisition added with UID b'170'\n",
      "Disposal added with UID b'147'\n",
      "Area not recognized: St James\\'s\n",
      "Acquisition added with UID b'73'\n",
      "Acquisition added with UID b'289'\n",
      "Acquisition added with UID b'452'\n",
      "Acquisition added with UID b'364'\n",
      "Disposal added with UID b'306'\n",
      "Acquisition added with UID b'394'\n",
      "Disposal added with UID b'326'\n",
      "Acquisition added with UID b'160'\n",
      "Acquisition added with UID b'406'\n",
      "Acquisition added with UID b'397'\n",
      "Disposal added with UID b'369'\n",
      "Acquisition added with UID b'279'\n",
      "Disposal added with UID b'150'\n",
      "Disposal added with UID b'253'\n",
      "Disposal added with UID b'417'\n",
      "Acquisition added with UID b'7'\n",
      "Acquisition added with UID b'454'\n",
      "Acquisition added with UID b'188'\n",
      "Acquisition added with UID b'151'\n",
      "Disposal added with UID b'40'\n",
      "Acquisition added with UID b'141'\n",
      "Extract post code issue 17 Bowling Green Lane, Clerkenwell, London , EC1\n",
      "Extract post code issue 17 Bowling Green Lane, Clerkenwell, London , EC1\n",
      "Extract post code issue 17 Bowling Green Lane, Clerkenwell, London , EC1\n",
      "Disposal added with UID b'401'\n",
      "Acquisition added with UID b'69'\n",
      "Disposal added with UID b'98'\n",
      "Acquisition added with UID b'180'\n",
      "Disposal added with UID b'66'\n",
      "Area not recognized: St James\\'s\n",
      "Acquisition added with UID b'39'\n",
      "Disposal added with UID b'297'\n",
      "Acquisition added with UID b'166'\n",
      "Area not recognized: St James\\'s\n",
      "Acquisition added with UID b'173'\n",
      "Disposal added with UID b'273'\n",
      "Disposal added with UID b'434'\n",
      "Disposal added with UID b'322'\n",
      "Disposal added with UID b'435'\n",
      "Acquisition added with UID b'232'\n",
      "Acquisition added with UID b'414'\n",
      "Disposal added with UID b'282'\n",
      "Disposal added with UID b'117'\n",
      "Disposal added with UID b'269'\n",
      "Disposal added with UID b'90'\n",
      "Acquisition added with UID b'148'\n",
      "Extract post code issue 71 Kingsway, London , WC2B\n",
      "Extract post code issue 71 Kingsway, London , WC2B\n",
      "Extract post code issue 71 Kingsway, London , WC2B\n",
      "Disposal added with UID b'305'\n",
      "Disposal added with UID b'493'\n",
      "Area not recognized: St James\\'s\n",
      "Acquisition added with UID b'328'\n",
      "Disposal added with UID b'118'\n",
      "Acquisition added with UID b'478'\n",
      "Disposal added with UID b'431'\n",
      "Disposal added with UID b'242'\n",
      "Acquisition added with UID b'186'\n",
      "Acquisition added with UID b'193'\n",
      "Area not recognized: St James\\'s\n",
      "Acquisition added with UID b'146'\n",
      "Disposal added with UID b'20'\n",
      "Disposal added with UID b'451'\n",
      "Extract post code issue 18 - 19 Pall Mall, SW1\n",
      "Extract post code issue 18 - 19 Pall Mall, SW1\n",
      "Extract post code issue 18 - 19 Pall Mall, SW1\n",
      "Disposal added with UID b'231'\n",
      "Area not recognized: St James\\'s\n",
      "Acquisition added with UID b'97'\n",
      "Acquisition added with UID b'342'\n",
      "Acquisition added with UID b'267'\n",
      "Area not recognized: St James\\'s\n",
      "Acquisition added with UID b'408'\n",
      "Acquisition added with UID b'174'\n",
      "Area not recognized: St James\\'s\n",
      "Acquisition added with UID b'490'\n",
      "Disposal added with UID b'234'\n",
      "Disposal added with UID b'240'\n",
      "Area not recognized: St James\\'s\n",
      "Acquisition added with UID b'379'\n",
      "Acquisition added with UID b'410'\n",
      "Extract post code issue 8 Headfort Place, SW1, SW1\n",
      "Extract post code issue 8 Headfort Place, SW1, SW1\n",
      "Extract post code issue 8 Headfort Place, SW1, SW1\n",
      "Disposal added with UID b'102'\n",
      "Area not recognized: St James\\'s\n",
      "Acquisition added with UID b'246'\n",
      "Acquisition added with UID b'491'\n",
      "Acquisition added with UID b'59'\n",
      "Acquisition added with UID b'277'\n",
      "Disposal added with UID b'178'\n",
      "Disposal added with UID b'303'\n",
      "Acquisition added with UID b'377'\n",
      "Area not recognized: St James\\'s\n",
      "Acquisition added with UID b'347'\n",
      "Acquisition added with UID b'258'\n",
      "Disposal added with UID b'327'\n",
      "Area not recognized: St James\\'s\n",
      "Acquisition added with UID b'123'\n",
      "Area not recognized: St James\\'s\n",
      "Acquisition added with UID b'405'\n",
      "Area not recognized: St James\\'s\n",
      "Acquisition added with UID b'380'\n",
      "Area not recognized: St James\\'s\n",
      "Acquisition added with UID b'49'\n",
      "Acquisition added with UID b'223'\n",
      "Acquisition added with UID b'468'\n",
      "Disposal added with UID b'399'\n",
      "Acquisition added with UID b'467'\n",
      "Acquisition added with UID b'61'\n",
      "Area not recognized: St James\\'s\n",
      "Acquisition added with UID b'480'\n",
      "Acquisition added with UID b'325'\n",
      "Acquisition added with UID b'324'\n",
      "Disposal added with UID b'100'\n",
      "Disposal added with UID b'129'\n",
      "Acquisition added with UID b'411'\n",
      "Extract post code issue 78-80 0ld Broad Street, London, EC2M\n",
      "Extract post code issue 78-80 Old Broad Street, London, EC2M\n",
      "Extract post code issue 78-80 Old Broad Street, London, EC2M\n",
      "Disposal added with UID b'43'\n",
      "Area not recognized: St James\\'s\n",
      "Acquisition added with UID b'191'\n",
      "Acquisition added with UID b'29'\n",
      "Disposal added with UID b'445'\n",
      "Acquisition added with UID b'323'\n",
      "Disposal added with UID b'175'\n",
      "Acquisition added with UID b'473'\n",
      "Acquisition added with UID b'420'\n",
      "Disposal added with UID b'56'\n",
      "Disposal added with UID b'65'\n",
      "Disposal added with UID b'483'\n",
      "Acquisition added with UID b'217'\n",
      "Area not recognized: St James\\'s\n",
      "Acquisition added with UID b'413'\n",
      "Disposal added with UID b'330'\n",
      "Acquisition added with UID b'489'\n",
      "Area not recognized: St James\\'s\n",
      "Acquisition added with UID b'290'\n",
      "Area not recognized: St James\\'s\n",
      "Acquisition added with UID b'259'\n",
      "Acquisition added with UID b'224'\n",
      "Acquisition added with UID b'481'\n",
      "Acquisition added with UID b'228'\n",
      "Area not recognized: St James\\'s\n",
      "Acquisition added with UID b'415'\n",
      "Acquisition added with UID b'488'\n",
      "Acquisition added with UID b'204'\n",
      "Area not recognized: St James\\'s\n",
      "Acquisition added with UID b'357'\n",
      "Acquisition added with UID b'236'\n",
      "Acquisition added with UID b'16'\n",
      "Acquisition added with UID b'437'\n",
      "Acquisition added with UID b'82'\n",
      "Disposal added with UID b'103'\n",
      "Extract post code issue 5 Hatton Garden, London , EC1\n",
      "Extract post code issue 5 Hatton Garden, London , EC1\n",
      "Extract post code issue 5 Hatton Garden, London , EC1\n",
      "Disposal added with UID b'22'\n",
      "Acquisition added with UID b'122'\n",
      "Acquisition added with UID b'222'\n",
      "Acquisition added with UID b'432'\n",
      "Disposal added with UID b'444'\n",
      "Disposal added with UID b'11'\n",
      "Area not recognized: St James\\'s\n",
      "Acquisition added with UID b'466'\n",
      "Extract post code issue New - Savoy Hill House, 7-10 Savoy Hill, WC2, WC2\n",
      "Extract post code issue New - Savoy Hill House, 7-10 Savoy Hill, WC2, WC2\n",
      "Extract post code issue New - Savoy Hill House, 7-10 Savoy Hill, WC2, WC2\n",
      "Disposal added with UID b'88'\n",
      "Acquisition added with UID b'302'\n",
      "Acquisition added with UID b'211'\n",
      "Disposal added with UID b'409'\n",
      "Area not recognized: St James\\'s\n",
      "Acquisition added with UID b'201'\n",
      "Area not recognized: St James\\'s\n",
      "Acquisition added with UID b'316'\n",
      "Disposal added with UID b'153'\n",
      "Acquisition added with UID b'263'\n",
      "Acquisition added with UID b'21'\n",
      "Disposal added with UID b'441'\n",
      "Acquisition added with UID b'430'\n",
      "Acquisition added with UID b'220'\n",
      "Area not recognized: St James\\'s\n",
      "Acquisition added with UID b'366'\n",
      "Disposal added with UID b'115'\n",
      "Acquisition added with UID b'177'\n",
      "Acquisition added with UID b'19'\n",
      "Acquisition added with UID b'60'\n",
      "Acquisition added with UID b'270'\n",
      "Disposal added with UID b'359'\n",
      "Disposal added with UID b'34'\n",
      "Acquisition added with UID b'404'\n",
      "Area not recognized: St James\\'s\n",
      "Acquisition added with UID b'145'\n",
      "Acquisition added with UID b'440'\n",
      "Area not recognized: St James\\'s\n",
      "Acquisition added with UID b'35'\n",
      "Disposal added with UID b'311'\n",
      "Disposal added with UID b'286'\n",
      "Disposal added with UID b'28'\n",
      "Acquisition added with UID b'230'\n",
      "Acquisition added with UID b'168'\n",
      "Area not recognized: St James\\'s\n",
      "Acquisition added with UID b'138'\n",
      "Acquisition added with UID b'287'\n",
      "Disposal added with UID b'57'\n",
      "Acquisition added with UID b'382'\n",
      "Disposal added with UID b'260'\n",
      "Acquisition added with UID b'37'\n",
      "Area not recognized: St James\\'s\n",
      "Acquisition added with UID b'261'\n",
      "Acquisition added with UID b'45'\n",
      "Acquisition added with UID b'348'\n",
      "Acquisition added with UID b'492'\n",
      "Acquisition added with UID b'203'\n",
      "Acquisition added with UID b'383'\n",
      "Area not recognized: St James\\'s\n",
      "Acquisition added with UID b'80'\n",
      "Acquisition added with UID b'482'\n",
      "Acquisition added with UID b'457'\n",
      "Acquisition added with UID b'86'\n",
      "Acquisition added with UID b'298'\n",
      "Disposal added with UID b'71'\n",
      "Disposal added with UID b'262'\n",
      "Acquisition added with UID b'113'\n",
      "Disposal added with UID b'119'\n",
      "Acquisition added with UID b'225'\n",
      "Disposal added with UID b'87'\n",
      "Area not recognized: St James\\'s\n",
      "Acquisition added with UID b'136'\n",
      "Acquisition added with UID b'128'\n",
      "Area not recognized: St James\\'s\n",
      "Acquisition added with UID b'229'\n",
      "Disposal added with UID b'125'\n",
      "Disposal added with UID b'106'\n",
      "Acquisition added with UID b'271'\n",
      "Disposal added with UID b'101'\n",
      "Area not recognized: St James\\'s\n",
      "Acquisition added with UID b'251'\n",
      "Area not recognized: St James\\'s\n",
      "Acquisition added with UID b'381'\n",
      "Disposal added with UID b'461'\n",
      "Acquisition added with UID b'476'\n",
      "Acquisition added with UID b'465'\n",
      "Acquisition added with UID b'78'\n",
      "Acquisition added with UID b'487'\n",
      "Acquisition added with UID b'221'\n",
      "Disposal added with UID b'9'\n",
      "Acquisition added with UID b'135'\n",
      "Acquisition added with UID b'472'\n",
      "Acquisition added with UID b'112'\n",
      "Area not recognized: St James\\'s\n",
      "Acquisition added with UID b'44'\n",
      "Area not recognized: St James\\'s\n",
      "Acquisition added with UID b'426'\n",
      "Acquisition added with UID b'281'\n",
      "Disposal added with UID b'83'\n",
      "Disposal added with UID b'429'\n",
      "Disposal added with UID b'293'\n",
      "Acquisition added with UID b'134'\n",
      "Extract post code issue 105 Piccadilly, W1\n",
      "Extract post code issue 105 Piccadilly, W1\n",
      "Extract post code issue 105 Piccadilly, W1\n",
      "Disposal added with UID b'470'\n",
      "Acquisition added with UID b'93'\n",
      "Acquisition added with UID b'155'\n",
      "Acquisition added with UID b'331'\n",
      "Area not recognized: St James\\'s\n",
      "Acquisition added with UID b'439'\n",
      "Acquisition added with UID b'402'\n",
      "Disposal added with UID b'52'\n",
      "Acquisition added with UID b'477'\n",
      "Disposal added with UID b'164'\n",
      "Disposal added with UID b'422'\n",
      "Disposal added with UID b'142'\n",
      "Acquisition added with UID b'403'\n",
      "Extract post code issue 46/52 PENT0NVILLE R0AD , NI 9HF\n",
      "Disposal added with UID b'233'\n",
      "Disposal added with UID b'462'\n",
      "Area not recognized: St James\\'s\n",
      "Acquisition added with UID b'355'\n",
      "Disposal added with UID b'154'\n",
      "Disposal added with UID b'343'\n",
      "Disposal added with UID b'340'\n",
      "Acquisition added with UID b'54'\n",
      "Acquisition added with UID b'333'\n",
      "Acquisition added with UID b'351'\n",
      "Acquisition added with UID b'446'\n",
      "Acquisition added with UID b'448'\n",
      "Disposal added with UID b'210'\n",
      "Acquisition added with UID b'30'\n",
      "Disposal added with UID b'308'\n",
      "Acquisition added with UID b'463'\n",
      "Area not recognized: St James\\'s\n",
      "Acquisition added with UID b'184'\n",
      "Acquisition added with UID b'41'\n",
      "Acquisition added with UID b'53'\n",
      "Area not recognized: St James\\'s\n",
      "Acquisition added with UID b'189'\n",
      "Area not recognized: St James\\'s\n",
      "Acquisition added with UID b'254'\n",
      "Acquisition added with UID b'121'\n",
      "Disposal added with UID b'12'\n",
      "Acquisition added with UID b'350'\n",
      "Acquisition added with UID b'365'\n",
      "Acquisition added with UID b'198'\n",
      "Acquisition added with UID b'336'\n",
      "Acquisition added with UID b'388'\n",
      "Acquisition added with UID b'387'\n",
      "Acquisition added with UID b'161'\n",
      "Disposal added with UID b'363'\n",
      "Disposal added with UID b'76'\n",
      "Disposal added with UID b'304'\n",
      "Disposal added with UID b'296'\n",
      "Area not recognized: St James\\'s\n",
      "Acquisition added with UID b'196'\n",
      "Disposal added with UID b'395'\n",
      "Area not recognized: St James\\'s\n",
      "Acquisition added with UID b'157'\n",
      "Disposal added with UID b'345'\n",
      "Acquisition added with UID b'31'\n",
      "Acquisition added with UID b'120'\n",
      "Extract post code issue Mayfair, W1K\n",
      "Extract post code issue Mayfair, W1K\n",
      "Extract post code issue Mayfair, W1K\n",
      "Disposal added with UID b'313'\n",
      "Acquisition added with UID b'194'\n",
      "Disposal added with UID b'91'\n",
      "Disposal added with UID b'301'\n",
      "Disposal added with UID b'391'\n",
      "Acquisition added with UID b'64'\n",
      "Area not recognized: St James\\'s\n",
      "Acquisition added with UID b'358'\n",
      "Disposal added with UID b'455'\n",
      "Area not recognized: St James\\'s\n",
      "Acquisition added with UID b'63'\n",
      "Disposal added with UID b'352'\n",
      "Acquisition added with UID b'144'\n",
      "Disposal added with UID b'33'\n",
      "Extract post code issue R7, Handyside Street, King's Cross , N1C\n",
      "Extract post code issue R7, Handyside Street, King's Cross , N1C\n",
      "Extract post code issue R7, Handyside Street, King's Cross , N1C\n",
      "Disposal added with UID b'471'\n",
      "Disposal added with UID b'149'\n",
      "Disposal added with UID b'55'\n",
      "Disposal added with UID b'427'\n",
      "Acquisition added with UID b'51'\n",
      "Area not recognized: St James\\'s\n",
      "Acquisition added with UID b'167'\n",
      "Acquisition added with UID b'295'\n",
      "Disposal added with UID b'390'\n",
      "Acquisition added with UID b'449'\n",
      "Unrecognised failed to upload with UID b'318'\n",
      "Acquisition added with UID b'130'\n",
      "Acquisition added with UID b'428'\n",
      "Acquisition added with UID b'495'\n",
      "Area not recognized: Within close proximity to Tottenham Court Rd / Goodge St / Russell Sq stations</p><br /><p><strong>Budget:</strong> &pound;market</p><br /><p><strong>Comments:</strong> light\n",
      "Area not recognized: bright accommodation</p><br /><p>&nbsp;</p><br /><p>All options through to me please.</p><br /><p>&nbsp;</p><br /><p>Many thanks,</p><br /><p>&nbsp;</p><br /><p>Jess&nbsp;</p></td>\\r\\n</tr>\\r\\n<tr>\\r\\n<td style=\"padding-right: 60px;\">\\r\\n<div style=\"background-color: #e5e5e5; padding: 15px 10px; margin:15px 0;\"><strong>Location:</strong> Bloomsbury\n",
      "Acquisition added with UID b'373'\n",
      "Area not recognized: St James\\'s\n",
      "Acquisition added with UID b'176'\n",
      "Acquisition added with UID b'197'\n",
      "Disposal added with UID b'216'\n",
      "Acquisition added with UID b'202'\n",
      "Acquisition added with UID b'182'\n",
      "Disposal added with UID b'456'\n",
      "Acquisition added with UID b'241'\n",
      "Acquisition added with UID b'6'\n",
      "Acquisition added with UID b'436'\n",
      "Disposal added with UID b'114'\n",
      "Acquisition added with UID b'339'\n",
      "Disposal added with UID b'421'\n",
      "Acquisition added with UID b'447'\n",
      "Unrecognised failed to upload with UID b'95'\n",
      "Acquisition added with UID b'396'\n",
      "Acquisition added with UID b'459'\n",
      "Acquisition added with UID b'13'\n",
      "Acquisition added with UID b'284'\n",
      "Acquisition added with UID b'183'\n",
      "Acquisition added with UID b'374'\n",
      "Acquisition added with UID b'172'\n",
      "Acquisition added with UID b'46'\n",
      "Acquisition added with UID b'321'\n",
      "Disposal added with UID b'288'\n",
      "Acquisition added with UID b'212'\n",
      "Acquisition added with UID b'105'\n",
      "Acquisition added with UID b'5'\n",
      "Extract post code issue 11 Lever Street, EC1\n",
      "Extract post code issue 11 Lever Street, EC1\n",
      "Extract post code issue 11 Lever Street, EC1\n",
      "Disposal added with UID b'92'\n",
      "Disposal added with UID b'245'\n",
      "Acquisition added with UID b'338'\n",
      "Acquisition added with UID b'8'\n",
      "Disposal added with UID b'143'\n",
      "Disposal added with UID b'300'\n",
      "Unrecognised failed to upload with UID b'3'\n",
      "Acquisition added with UID b'310'\n",
      "Disposal added with UID b'393'\n",
      "Area not recognized: St James\\'s\n",
      "Acquisition added with UID b'110'\n",
      "Acquisition added with UID b'252'\n",
      "Acquisition added with UID b'332'\n",
      "Acquisition added with UID b'458'\n",
      "Acquisition added with UID b'346'\n",
      "Acquisition added with UID b'215'\n",
      "Area not recognized: St James\\'s\n",
      "Acquisition added with UID b'248'\n",
      "Acquisition added with UID b'370'\n",
      "Acquisition added with UID b'219'\n",
      "Acquisition added with UID b'368'\n",
      "Disposal added with UID b'75'\n",
      "Acquisition added with UID b'48'\n",
      "Area not recognized: St James\\'s\n",
      "Acquisition added with UID b'265'\n",
      "Extract post code issue R7, Handyside Street, King's Cross , N1C\n",
      "Extract post code issue R7, Handyside Street, King's Cross , N1C\n",
      "Extract post code issue R7, Handyside Street, King's Cross , N1C\n",
      "Disposal added with UID b'190'\n"
     ]
    }
   ],
   "source": [
    "main.del_all()\n",
    "main.update_database()"
   ]
  },
  {
   "cell_type": "code",
   "execution_count": 4,
   "metadata": {
    "collapsed": false,
    "scrolled": true
   },
   "outputs": [],
   "source": [
    "ad = main.all_disposals()\n",
    "# ad.sort()"
   ]
  },
  {
   "cell_type": "code",
   "execution_count": 5,
   "metadata": {
    "collapsed": false
   },
   "outputs": [],
   "source": [
    "gby = ad.groupby('my_hood')"
   ]
  },
  {
   "cell_type": "code",
   "execution_count": 24,
   "metadata": {
    "collapsed": false
   },
   "outputs": [
    {
     "data": {
      "text/plain": [
       "<matplotlib.axes._subplots.AxesSubplot at 0x1e1e488fe80>"
      ]
     },
     "execution_count": 24,
     "metadata": {},
     "output_type": "execute_result"
    },
    {
     "data": {
      "image/png": "[encoded data removed]",
      "text/plain": [
       "<matplotlib.figure.Figure at 0x1e1e47cd710>"
      ]
     },
     "metadata": {},
     "output_type": "display_data"
    }
   ],
   "source": [
    "gby['rent'].mean().sort_values().plot(kind='bar', figsize=(15,10), title='Rent £psf by area')"
   ]
  },
  {
   "cell_type": "code",
   "execution_count": 23,
   "metadata": {
    "collapsed": false
   },
   "outputs": [
    {
     "data": {
      "text/plain": [
       "<matplotlib.axes._subplots.AxesSubplot at 0x1e1e47d18d0>"
      ]
     },
     "execution_count": 23,
     "metadata": {},
     "output_type": "execute_result"
    },
    {
     "data": {
      "image/png": "[encoded data removed]",
      "text/plain": [
       "<matplotlib.figure.Figure at 0x1e1e47ddeb8>"
      ]
     },
     "metadata": {},
     "output_type": "display_data"
    }
   ],
   "source": [
    "gby['rent'].count().sort_values().plot(kind='bar', figsize=(15,10), title='Count by area')"
   ]
  },
  {
   "cell_type": "code",
   "execution_count": 119,
   "metadata": {
    "collapsed": false
   },
   "outputs": [],
   "source": [
    "ma = gby['rent'].mean()\n",
    "ma = ma[ma.notnull()].values"
   ]
  },
  {
   "cell_type": "code",
   "execution_count": 132,
   "metadata": {
    "collapsed": false
   },
   "outputs": [],
   "source": [
    "va = ma - np.mean(ma)"
   ]
  },
  {
   "cell_type": "code",
   "execution_count": 146,
   "metadata": {
    "collapsed": false
   },
   "outputs": [
    {
     "data": {
      "text/plain": [
       "array([ 0.75355388,  0.46068796,  0.68163015,  0.73051948,  0.67128817,\n",
       "        0.71498771,  0.82265707,  0.68512526,  0.65812566,  0.49030362,\n",
       "        0.68839944,  1.        ,  0.97873941,  0.78568686,  0.36196911,\n",
       "        0.68664444,  0.62127062,  0.98784661,  0.55940681,  0.75684451,\n",
       "        0.41672517,  0.65812566,  0.71077571])"
      ]
     },
     "execution_count": 146,
     "metadata": {},
     "output_type": "execute_result"
    }
   ],
   "source": [
    "ma/np.max(ma)"
   ]
  },
  {
   "cell_type": "code",
   "execution_count": 145,
   "metadata": {
    "collapsed": false
   },
   "outputs": [
    {
     "data": {
      "text/plain": [
       "array([[ 1.        ,  0.78290003,  0.90768052,  0.97125192,  0.89498178,\n",
       "         0.95097946,  0.9311342 ,  0.91208389,  0.87969961,  0.78695769,\n",
       "         0.91625167,  0.85294179,  0.85803777,  0.96437529,  0.77714419,\n",
       "         0.91401285,  0.84359758,  0.85577019,  0.80588849,  0.99608484,\n",
       "         0.77928689,  0.87969961,  0.94543413],\n",
       "       [ 0.64910943,  1.        ,  0.71640422,  0.66323674,  0.73115337,\n",
       "         0.67676559,  0.63927437,  0.71164615,  0.75110265,  0.97603274,\n",
       "         0.70730381,  0.67818418,  0.67340825,  0.63968515,  0.94381786,\n",
       "         0.70961717,  0.81013836,  0.67548293,  0.90129923,  0.64763537,\n",
       "         0.97119258,  0.75110265,  0.68099951],\n",
       "       [ 0.91382623,  0.83621672,  1.        ,  0.93898366,  0.98679771,\n",
       "         0.95759998,  0.85945755,  0.99550952,  0.97036936,  0.84516389,\n",
       "         0.99129887,  0.81002379,  0.81269537,  0.88463598,  0.81807689,\n",
       "         0.993556  ,  0.92863514,  0.81149419,  0.87779905,  0.91051057,\n",
       "         0.82641622,  0.97036936,  0.96282325],\n",
       "       [ 0.97240187,  0.79997531,  0.93724689,  1.        ,  0.92438688,\n",
       "         0.98025794,  0.90817893,  0.94167816,  0.90873764,  0.80559889,\n",
       "         0.94585966,  0.83919681,  0.84351635,  0.93883786,  0.79025335,\n",
       "         0.94361498,  0.87083183,  0.8415903 ,  0.82891867,  0.9686787 ,\n",
       "         0.79438059,  0.90873764,  0.97481575],\n",
       "       [ 0.90143523,  0.84388317,  0.9867253 ,  0.92607636,  1.        ,\n",
       "         0.94445454,  0.8491511 ,  0.9822223 ,  0.98340684,  0.85353341,\n",
       "         0.97800549,  0.80385257,  0.80617555,  0.87317019,  0.82396264,\n",
       "         0.98026524,  0.94086277,  0.8051277 ,  0.88813913,  0.89820577,\n",
       "         0.83319298,  0.98340684,  0.9496315 ],\n",
       "       [ 0.95379284,  0.81148893,  0.95718307,  0.98061558,  0.94421432,\n",
       "         1.        ,  0.89270052,  0.96163315,  0.92831756,  0.81816839,\n",
       "         0.96582391,  0.82992877,  0.83372476,  0.92161834,  0.79909268,\n",
       "         0.96357528,  0.8891955 ,  0.83202899,  0.84444759,  0.95019913,\n",
       "         0.80455806,  0.92831756,  0.99462736],\n",
       "       [ 0.9172056 ,  0.7316742 ,  0.81898142,  0.88500767,  0.80676648,\n",
       "         0.86314402,  1.        ,  0.82330109,  0.79258554,  0.73103408,\n",
       "         0.82742768,  0.89417674,  0.90160204,  0.95901243,  0.73781669,\n",
       "         0.82520645,  0.76189482,  0.89830988,  0.73679795,  0.92169675,\n",
       "         0.73400577,  0.79258554,  0.85728925],\n",
       "       [ 0.91801383,  0.83362581,  0.99551376,  0.94334574,  0.98233594,\n",
       "         0.96204254,  0.86294066,  1.        ,  0.96596329,  0.84233537,\n",
       "         0.99579143,  0.81210938,  0.81489877,  0.88851089,  0.81608777,\n",
       "         0.99804767,  0.92450276,  0.81364577,  0.87430457,  0.91466903,\n",
       "         0.82412598,  0.96596329,  0.96728146],\n",
       "       [ 0.88566487,  0.85364047,  0.96983024,  0.90964888,  0.98319709,\n",
       "         0.92772398,  0.83603381,  0.96531129,  1.        ,  0.86418552,\n",
       "         0.96108663,  0.7959983 ,  0.79787759,  0.85857738,  0.83145359,\n",
       "         0.96334974,  0.9564252 ,  0.79702491,  0.90129923,  0.88254512,\n",
       "         0.84181796,  1.        ,  0.932842  ],\n",
       "       [ 0.68459274,  0.97804607,  0.75441812,  0.70019856,  0.76895993,\n",
       "         0.71440935,  0.66878829,  0.74969592,  0.78843725,  1.        ,\n",
       "         0.74537124,  0.69585629,  0.69207865,  0.67251899,  0.92696322,\n",
       "         0.74767706,  0.84515382,  0.69371423,  0.93090946,  0.68287184,\n",
       "         0.95178639,  0.78843725,  0.71877588],\n",
       "       [ 0.9219367 ,  0.83119868,  0.99131111,  0.94743208,  0.97815621,\n",
       "         0.96620427,  0.86620359,  0.99579339,  0.96183574,  0.83968566,\n",
       "         1.        ,  0.81406313,  0.81696289,  0.89214085,  0.8142244 ,\n",
       "         0.9977446 ,  0.92063161,  0.81566134,  0.871031  ,  0.91856462,\n",
       "         0.82198051,  0.96183574,  0.97145785],\n",
       "       [ 0.70472624,  0.60021082,  0.59134854,  0.66367481,  0.58037522,\n",
       "         0.63772762,  0.8232663 ,  0.59545343,  0.5690204 ,  0.58751457,\n",
       "         0.59947431,  1.        ,  0.98659682,  0.76239857,  0.6368886 ,\n",
       "         0.59729822,  0.55221702,  0.99251842,  0.5594875 ,  0.71069559,\n",
       "         0.6177986 ,  0.5690204 ,  0.63107873],\n",
       "       [ 0.73019913,  0.61597119,  0.61863809,  0.69020909,  0.60751592,\n",
       "         0.66475146,  0.84445386,  0.62276873,  0.5958223 ,  0.60472028,\n",
       "         0.62680229,  0.98731348,  1.        ,  0.78596944,  0.64898827,\n",
       "         0.62462079,  0.57735405,  0.99439364,  0.5807442 ,  0.73599127,\n",
       "         0.63172999,  0.5958223 ,  0.65819777],\n",
       "       [ 0.9615006 ,  0.75908002,  0.86643544,  0.93114834,  0.85396167,\n",
       "         0.91013598,  0.9631568 ,  0.87079989,  0.83919157,  0.76095321,\n",
       "         0.87494851,  0.87211604,  0.87829516,  1.        ,  0.7588569 ,\n",
       "         0.87271788,  0.8056058 ,  0.87555115,  0.77376139,  0.9656836 ,\n",
       "         0.75823117,  0.83919157,  0.90444676],\n",
       "       [ 0.53083171,  0.92682024,  0.58969121,  0.54003067,  0.60513151,\n",
       "         0.55128639,  0.54089466,  0.58481358,  0.62665397,  0.89614187,\n",
       "         0.5804124 ,  0.61927711,  0.61117357,  0.53023904,  1.        ,\n",
       "         0.58275088,  0.69342013,  0.61471195,  0.80259846,  0.5301805 ,\n",
       "         0.9641201 ,  0.62665397,  0.55507826],\n",
       "       [ 0.91983399,  0.83249965,  0.99356378,  0.94524175,  0.9803966 ,\n",
       "         0.96397353,  0.86445461,  0.99804819,  0.96404816,  0.84110594,\n",
       "         0.99774415,  0.8130159 ,  0.8158565 ,  0.89019515,  0.81522319,\n",
       "         1.        ,  0.9227066 ,  0.81458097,  0.87278568,  0.91647653,\n",
       "         0.82313051,  0.96404816,  0.96921925],\n",
       "       [ 0.84150785,  0.88096092,  0.92252405,  0.86365195,  0.93614892,\n",
       "         0.88087842,  0.79930538,  0.91796047,  0.95353916,  0.89401145,\n",
       "         0.91371384,  0.77400633,  0.77464331,  0.8177175 ,  0.85242825,\n",
       "         0.91598633,  1.        ,  0.77433707,  0.93814752,  0.8386953 ,\n",
       "         0.86596789,  0.95353916,  0.8858314 ],\n",
       "       [ 0.71928754,  0.60922006,  0.60694832,  0.67884284,  0.59588991,\n",
       "         0.6531755 ,  0.83537794,  0.61106792,  0.58434142,  0.59735003,\n",
       "         0.61509605,  0.99274789,  0.9942586 ,  0.7758726 ,  0.64380525,\n",
       "         0.61291687,  0.56658633,  1.        ,  0.57163866,  0.72515559,\n",
       "         0.62576233,  0.58434142,  0.64658103],\n",
       "       [ 0.76738715,  0.92682024,  0.84311723,  0.78644281,  0.85717523,\n",
       "         0.80224479,  0.73765409,  0.83847872,  0.87555132,  0.94407639,\n",
       "         0.83419522,  0.73709124,  0.73564292,  0.74913127,  0.88763573,\n",
       "         0.83648345,  0.92685658,  0.73625392,  1.        ,  0.76509025,\n",
       "         0.90650527,  0.87555132,  0.80692075],\n",
       "       [ 0.99605741,  0.78046071,  0.90345676,  0.96714505,  0.89078106,\n",
       "         0.94679682,  0.93441352,  0.90785614,  0.87555132,  0.78429466,\n",
       "         0.91202196,  0.85490536,  0.86011226,  0.96802349,  0.77527145,\n",
       "         0.90978398,  0.83970697,  0.85779589,  0.80259846,  1.        ,\n",
       "         0.77713064,  0.87555132,  0.94123675],\n",
       "       [ 0.59643642,  0.96741061,  0.65997469,  0.60836897,  0.67503163,\n",
       "         0.62088552,  0.5954626 ,  0.65516338,  0.6956815 ,  0.94045467,\n",
       "         0.65079484,  0.6519509 ,  0.64569307,  0.59094515,  0.96883764,\n",
       "         0.65311938,  0.75815984,  0.64841959,  0.85734449,  0.5953288 ,\n",
       "         1.        ,  0.6956815 ,  0.62492258],\n",
       "       [ 0.88566487,  0.85364047,  0.96983024,  0.90964888,  0.98319709,\n",
       "         0.92772398,  0.83603381,  0.96531129,  1.        ,  0.86418552,\n",
       "         0.96108663,  0.7959983 ,  0.79787759,  0.85857738,  0.83145359,\n",
       "         0.96334974,  0.9564252 ,  0.79702491,  0.90129923,  0.88254512,\n",
       "         0.84181796,  1.        ,  0.932842  ],\n",
       "       [ 0.94874632,  0.81461127,  0.96258949,  0.97535879,  0.94959126,\n",
       "         0.99464622,  0.88850299,  0.96704467,  0.93362737,  0.82157706,\n",
       "         0.97123795,  0.8274154 ,  0.83106942,  0.91694864,  0.80148978,\n",
       "         0.96898824,  0.89417548,  0.8294361 ,  0.84865882,  0.94518772,\n",
       "         0.80731806,  0.93362737,  1.        ]])"
      ]
     },
     "execution_count": 145,
     "metadata": {},
     "output_type": "execute_result"
    }
   ],
   "source": [
    "x, y = np.meshgrid(ma,ma)\n",
    "s = np.subtract(x, y)\n",
    "d = np.divide(np.abs(s), np.sqrt(sum(s*s)))\n",
    "1-d"
   ]
  },
  {
   "cell_type": "code",
   "execution_count": 8,
   "metadata": {
    "collapsed": false
   },
   "outputs": [],
   "source": [
    "aa = main.all_acquisition_areas()"
   ]
  },
  {
   "cell_type": "code",
   "execution_count": 22,
   "metadata": {
    "collapsed": false,
    "scrolled": false
   },
   "outputs": [
    {
     "data": {
      "text/plain": [
       "<matplotlib.axes._subplots.AxesSubplot at 0x1e1e2f7f198>"
      ]
     },
     "execution_count": 22,
     "metadata": {},
     "output_type": "execute_result"
    },
    {
     "data": {
      "image/png": "[encoded data removed]",
      "text/plain": [
       "<matplotlib.figure.Figure at 0x1e1e2f83e48>"
      ]
     },
     "metadata": {},
     "output_type": "display_data"
    }
   ],
   "source": [
    "ga = aa.groupby('description')\n",
    "ga['id'].count().sort_values().plot(kind='bar', figsize=(15,10), title='Acquisitions by area')"
   ]
  },
  {
   "cell_type": "code",
   "execution_count": 78,
   "metadata": {
    "collapsed": false
   },
   "outputs": [
    {
     "ename": "KeyError",
     "evalue": "'Column not found: rent'",
     "traceback": [
      "\u001b[1;31m---------------------------------------------------------------------------\u001b[0m",
      "\u001b[1;31mKeyError\u001b[0m                                  Traceback (most recent call last)",
      "\u001b[1;32m<ipython-input-78-aac7171108c4>\u001b[0m in \u001b[0;36m<module>\u001b[1;34m()\u001b[0m\n\u001b[1;32m----> 1\u001b[1;33m \u001b[0mga\u001b[0m\u001b[1;33m[\u001b[0m\u001b[1;34m'rent'\u001b[0m\u001b[1;33m]\u001b[0m\u001b[1;33m.\u001b[0m\u001b[0msum\u001b[0m\u001b[1;33m(\u001b[0m\u001b[1;33m)\u001b[0m\u001b[1;33m\u001b[0m\u001b[0m\n\u001b[0m",
      "\u001b[1;32mC:\\Anaconda3\\lib\\site-packages\\pandas\\core\\base.py\u001b[0m in \u001b[0;36m__getitem__\u001b[1;34m(self, key)\u001b[0m\n\u001b[0;32m    352\u001b[0m         \u001b[1;32melse\u001b[0m\u001b[1;33m:\u001b[0m\u001b[1;33m\u001b[0m\u001b[0m\n\u001b[0;32m    353\u001b[0m             \u001b[1;32mif\u001b[0m \u001b[0mkey\u001b[0m \u001b[1;32mnot\u001b[0m \u001b[1;32min\u001b[0m \u001b[0mself\u001b[0m\u001b[1;33m.\u001b[0m\u001b[0mobj\u001b[0m\u001b[1;33m:\u001b[0m\u001b[1;33m\u001b[0m\u001b[0m\n\u001b[1;32m--> 354\u001b[1;33m                 \u001b[1;32mraise\u001b[0m \u001b[0mKeyError\u001b[0m\u001b[1;33m(\u001b[0m\u001b[1;34m\"Column not found: %s\"\u001b[0m \u001b[1;33m%\u001b[0m \u001b[0mkey\u001b[0m\u001b[1;33m)\u001b[0m\u001b[1;33m\u001b[0m\u001b[0m\n\u001b[0m\u001b[0;32m    355\u001b[0m             \u001b[1;32mreturn\u001b[0m \u001b[0mself\u001b[0m\u001b[1;33m.\u001b[0m\u001b[0m_gotitem\u001b[0m\u001b[1;33m(\u001b[0m\u001b[0mkey\u001b[0m\u001b[1;33m,\u001b[0m \u001b[0mndim\u001b[0m\u001b[1;33m=\u001b[0m\u001b[1;36m1\u001b[0m\u001b[1;33m)\u001b[0m\u001b[1;33m\u001b[0m\u001b[0m\n\u001b[0;32m    356\u001b[0m \u001b[1;33m\u001b[0m\u001b[0m\n",
      "\u001b[1;31mKeyError\u001b[0m: 'Column not found: rent'"
     ],
     "output_type": "error"
    }
   ],
   "source": [
    "ga['rent'].sum()"
   ]
  },
  {
   "cell_type": "code",
   "execution_count": null,
   "metadata": {
    "collapsed": true
   },
   "outputs": [],
   "source": [
    ""
   ]
  },
  {
   "cell_type": "code",
   "execution_count": null,
   "metadata": {
    "collapsed": true
   },
   "outputs": [],
   "source": [
    ""
   ]
  },
  {
   "cell_type": "code",
   "execution_count": 13,
   "metadata": {
    "collapsed": false
   },
   "outputs": [],
   "source": [
    "gby_ac = ad.groupby('area_code')"
   ]
  },
  {
   "cell_type": "code",
   "execution_count": 37,
   "metadata": {
    "collapsed": false
   },
   "outputs": [],
   "source": [
    "td = gby['rent'].count()\n",
    "ta = ga['id'].count()"
   ]
  },
  {
   "cell_type": "code",
   "execution_count": 68,
   "metadata": {
    "collapsed": false
   },
   "outputs": [],
   "source": [
    "df = pd.DataFrame([td, ta]).T\n",
    "df.columns = ['Dispossals', 'Acquistions']"
   ]
  },
  {
   "cell_type": "code",
   "execution_count": 72,
   "metadata": {
    "collapsed": false
   },
   "outputs": [
    {
     "data": {
      "image/png": "[encoded data removed]",
      "text/plain": [
       "<matplotlib.figure.Figure at 0x1e1e770ecc0>"
      ]
     },
     "metadata": {},
     "output_type": "display_data"
    }
   ],
   "source": [
    "# ax = df.plot(secondary_y=['Dispossals'], figsize=(15,10), title='Acquisitions by area')\n",
    "ax = df.sort_values('Acquistions').plot(kind='bar', secondary_y=['Dispossals'], figsize=(15,10), title='Acquisitions by area')"
   ]
  },
  {
   "cell_type": "code",
   "execution_count": 67,
   "metadata": {
    "collapsed": false,
    "scrolled": true
   },
   "outputs": [
    {
     "ename": "KeyError",
     "evalue": "'Acquistions'",
     "traceback": [
      "\u001b[1;31m---------------------------------------------------------------------------\u001b[0m",
      "\u001b[1;31mKeyError\u001b[0m                                  Traceback (most recent call last)",
      "\u001b[1;32mC:\\Anaconda3\\lib\\site-packages\\pandas\\core\\indexes\\base.py\u001b[0m in \u001b[0;36mget_loc\u001b[1;34m(self, key, method, tolerance)\u001b[0m\n\u001b[0;32m   2392\u001b[0m             \u001b[1;32mtry\u001b[0m\u001b[1;33m:\u001b[0m\u001b[1;33m\u001b[0m\u001b[0m\n\u001b[1;32m-> 2393\u001b[1;33m                 \u001b[1;32mreturn\u001b[0m \u001b[0mself\u001b[0m\u001b[1;33m.\u001b[0m\u001b[0m_engine\u001b[0m\u001b[1;33m.\u001b[0m\u001b[0mget_loc\u001b[0m\u001b[1;33m(\u001b[0m\u001b[0mkey\u001b[0m\u001b[1;33m)\u001b[0m\u001b[1;33m\u001b[0m\u001b[0m\n\u001b[0m\u001b[0;32m   2394\u001b[0m             \u001b[1;32mexcept\u001b[0m \u001b[0mKeyError\u001b[0m\u001b[1;33m:\u001b[0m\u001b[1;33m\u001b[0m\u001b[0m\n",
      "\u001b[1;32mpandas\\_libs\\index.pyx\u001b[0m in \u001b[0;36mpandas._libs.index.IndexEngine.get_loc (pandas\\_libs\\index.c:5239)\u001b[1;34m()\u001b[0m\n",
      "\u001b[1;32mpandas\\_libs\\index.pyx\u001b[0m in \u001b[0;36mpandas._libs.index.IndexEngine.get_loc (pandas\\_libs\\index.c:5085)\u001b[1;34m()\u001b[0m\n",
      "\u001b[1;32mpandas\\_libs\\hashtable_class_helper.pxi\u001b[0m in \u001b[0;36mpandas._libs.hashtable.PyObjectHashTable.get_item (pandas\\_libs\\hashtable.c:20405)\u001b[1;34m()\u001b[0m\n",
      "\u001b[1;32mpandas\\_libs\\hashtable_class_helper.pxi\u001b[0m in \u001b[0;36mpandas._libs.hashtable.PyObjectHashTable.get_item (pandas\\_libs\\hashtable.c:20359)\u001b[1;34m()\u001b[0m\n",
      "\u001b[1;31mKeyError\u001b[0m: 'Acquistions'",
      "\nDuring handling of the above exception, another exception occurred:\n",
      "\u001b[1;31mKeyError\u001b[0m                                  Traceback (most recent call last)",
      "\u001b[1;32m<ipython-input-67-a49a76a7f550>\u001b[0m in \u001b[0;36m<module>\u001b[1;34m()\u001b[0m\n\u001b[0;32m      2\u001b[0m \u001b[0max2\u001b[0m \u001b[1;33m=\u001b[0m \u001b[0max1\u001b[0m\u001b[1;33m.\u001b[0m\u001b[0mtwinx\u001b[0m\u001b[1;33m(\u001b[0m\u001b[1;33m)\u001b[0m\u001b[1;33m\u001b[0m\u001b[0m\n\u001b[0;32m      3\u001b[0m \u001b[1;33m\u001b[0m\u001b[0m\n\u001b[1;32m----> 4\u001b[1;33m \u001b[0mdf\u001b[0m\u001b[1;33m[\u001b[0m\u001b[1;34m'Acquistions'\u001b[0m\u001b[1;33m]\u001b[0m\u001b[1;33m.\u001b[0m\u001b[0mplot\u001b[0m\u001b[1;33m(\u001b[0m\u001b[0mkind\u001b[0m\u001b[1;33m=\u001b[0m\u001b[1;34m'bar'\u001b[0m\u001b[1;33m,\u001b[0m \u001b[0mfigsize\u001b[0m\u001b[1;33m=\u001b[0m\u001b[1;33m(\u001b[0m\u001b[1;36m15\u001b[0m\u001b[1;33m,\u001b[0m\u001b[1;36m10\u001b[0m\u001b[1;33m)\u001b[0m\u001b[1;33m,\u001b[0m \u001b[0max\u001b[0m \u001b[1;33m=\u001b[0m\u001b[0max1\u001b[0m\u001b[1;33m,\u001b[0m \u001b[0mtitle\u001b[0m\u001b[1;33m=\u001b[0m\u001b[1;34m'Acquisitions by area'\u001b[0m\u001b[1;33m)\u001b[0m\u001b[1;33m\u001b[0m\u001b[0m\n\u001b[0m\u001b[0;32m      5\u001b[0m \u001b[1;33m\u001b[0m\u001b[0m\n\u001b[0;32m      6\u001b[0m \u001b[0mplt\u001b[0m\u001b[1;33m.\u001b[0m\u001b[0mshow\u001b[0m\u001b[1;33m(\u001b[0m\u001b[1;33m)\u001b[0m\u001b[1;33m\u001b[0m\u001b[0m\n",
      "\u001b[1;32mC:\\Anaconda3\\lib\\site-packages\\pandas\\core\\frame.py\u001b[0m in \u001b[0;36m__getitem__\u001b[1;34m(self, key)\u001b[0m\n\u001b[0;32m   2060\u001b[0m             \u001b[1;32mreturn\u001b[0m \u001b[0mself\u001b[0m\u001b[1;33m.\u001b[0m\u001b[0m_getitem_multilevel\u001b[0m\u001b[1;33m(\u001b[0m\u001b[0mkey\u001b[0m\u001b[1;33m)\u001b[0m\u001b[1;33m\u001b[0m\u001b[0m\n\u001b[0;32m   2061\u001b[0m         \u001b[1;32melse\u001b[0m\u001b[1;33m:\u001b[0m\u001b[1;33m\u001b[0m\u001b[0m\n\u001b[1;32m-> 2062\u001b[1;33m             \u001b[1;32mreturn\u001b[0m \u001b[0mself\u001b[0m\u001b[1;33m.\u001b[0m\u001b[0m_getitem_column\u001b[0m\u001b[1;33m(\u001b[0m\u001b[0mkey\u001b[0m\u001b[1;33m)\u001b[0m\u001b[1;33m\u001b[0m\u001b[0m\n\u001b[0m\u001b[0;32m   2063\u001b[0m \u001b[1;33m\u001b[0m\u001b[0m\n\u001b[0;32m   2064\u001b[0m     \u001b[1;32mdef\u001b[0m \u001b[0m_getitem_column\u001b[0m\u001b[1;33m(\u001b[0m\u001b[0mself\u001b[0m\u001b[1;33m,\u001b[0m \u001b[0mkey\u001b[0m\u001b[1;33m)\u001b[0m\u001b[1;33m:\u001b[0m\u001b[1;33m\u001b[0m\u001b[0m\n",
      "\u001b[1;32mC:\\Anaconda3\\lib\\site-packages\\pandas\\core\\frame.py\u001b[0m in \u001b[0;36m_getitem_column\u001b[1;34m(self, key)\u001b[0m\n\u001b[0;32m   2067\u001b[0m         \u001b[1;31m# get column\u001b[0m\u001b[1;33m\u001b[0m\u001b[1;33m\u001b[0m\u001b[0m\n\u001b[0;32m   2068\u001b[0m         \u001b[1;32mif\u001b[0m \u001b[0mself\u001b[0m\u001b[1;33m.\u001b[0m\u001b[0mcolumns\u001b[0m\u001b[1;33m.\u001b[0m\u001b[0mis_unique\u001b[0m\u001b[1;33m:\u001b[0m\u001b[1;33m\u001b[0m\u001b[0m\n\u001b[1;32m-> 2069\u001b[1;33m             \u001b[1;32mreturn\u001b[0m \u001b[0mself\u001b[0m\u001b[1;33m.\u001b[0m\u001b[0m_get_item_cache\u001b[0m\u001b[1;33m(\u001b[0m\u001b[0mkey\u001b[0m\u001b[1;33m)\u001b[0m\u001b[1;33m\u001b[0m\u001b[0m\n\u001b[0m\u001b[0;32m   2070\u001b[0m \u001b[1;33m\u001b[0m\u001b[0m\n\u001b[0;32m   2071\u001b[0m         \u001b[1;31m# duplicate columns & possible reduce dimensionality\u001b[0m\u001b[1;33m\u001b[0m\u001b[1;33m\u001b[0m\u001b[0m\n",
      "\u001b[1;32mC:\\Anaconda3\\lib\\site-packages\\pandas\\core\\generic.py\u001b[0m in \u001b[0;36m_get_item_cache\u001b[1;34m(self, item)\u001b[0m\n\u001b[0;32m   1532\u001b[0m         \u001b[0mres\u001b[0m \u001b[1;33m=\u001b[0m \u001b[0mcache\u001b[0m\u001b[1;33m.\u001b[0m\u001b[0mget\u001b[0m\u001b[1;33m(\u001b[0m\u001b[0mitem\u001b[0m\u001b[1;33m)\u001b[0m\u001b[1;33m\u001b[0m\u001b[0m\n\u001b[0;32m   1533\u001b[0m         \u001b[1;32mif\u001b[0m \u001b[0mres\u001b[0m \u001b[1;32mis\u001b[0m \u001b[1;32mNone\u001b[0m\u001b[1;33m:\u001b[0m\u001b[1;33m\u001b[0m\u001b[0m\n\u001b[1;32m-> 1534\u001b[1;33m             \u001b[0mvalues\u001b[0m \u001b[1;33m=\u001b[0m \u001b[0mself\u001b[0m\u001b[1;33m.\u001b[0m\u001b[0m_data\u001b[0m\u001b[1;33m.\u001b[0m\u001b[0mget\u001b[0m\u001b[1;33m(\u001b[0m\u001b[0mitem\u001b[0m\u001b[1;33m)\u001b[0m\u001b[1;33m\u001b[0m\u001b[0m\n\u001b[0m\u001b[0;32m   1535\u001b[0m             \u001b[0mres\u001b[0m \u001b[1;33m=\u001b[0m \u001b[0mself\u001b[0m\u001b[1;33m.\u001b[0m\u001b[0m_box_item_values\u001b[0m\u001b[1;33m(\u001b[0m\u001b[0mitem\u001b[0m\u001b[1;33m,\u001b[0m \u001b[0mvalues\u001b[0m\u001b[1;33m)\u001b[0m\u001b[1;33m\u001b[0m\u001b[0m\n\u001b[0;32m   1536\u001b[0m             \u001b[0mcache\u001b[0m\u001b[1;33m[\u001b[0m\u001b[0mitem\u001b[0m\u001b[1;33m]\u001b[0m \u001b[1;33m=\u001b[0m \u001b[0mres\u001b[0m\u001b[1;33m\u001b[0m\u001b[0m\n",
      "\u001b[1;32mC:\\Anaconda3\\lib\\site-packages\\pandas\\core\\internals.py\u001b[0m in \u001b[0;36mget\u001b[1;34m(self, item, fastpath)\u001b[0m\n\u001b[0;32m   3588\u001b[0m \u001b[1;33m\u001b[0m\u001b[0m\n\u001b[0;32m   3589\u001b[0m             \u001b[1;32mif\u001b[0m \u001b[1;32mnot\u001b[0m \u001b[0misnull\u001b[0m\u001b[1;33m(\u001b[0m\u001b[0mitem\u001b[0m\u001b[1;33m)\u001b[0m\u001b[1;33m:\u001b[0m\u001b[1;33m\u001b[0m\u001b[0m\n\u001b[1;32m-> 3590\u001b[1;33m                 \u001b[0mloc\u001b[0m \u001b[1;33m=\u001b[0m \u001b[0mself\u001b[0m\u001b[1;33m.\u001b[0m\u001b[0mitems\u001b[0m\u001b[1;33m.\u001b[0m\u001b[0mget_loc\u001b[0m\u001b[1;33m(\u001b[0m\u001b[0mitem\u001b[0m\u001b[1;33m)\u001b[0m\u001b[1;33m\u001b[0m\u001b[0m\n\u001b[0m\u001b[0;32m   3591\u001b[0m             \u001b[1;32melse\u001b[0m\u001b[1;33m:\u001b[0m\u001b[1;33m\u001b[0m\u001b[0m\n\u001b[0;32m   3592\u001b[0m                 \u001b[0mindexer\u001b[0m \u001b[1;33m=\u001b[0m \u001b[0mnp\u001b[0m\u001b[1;33m.\u001b[0m\u001b[0marange\u001b[0m\u001b[1;33m(\u001b[0m\u001b[0mlen\u001b[0m\u001b[1;33m(\u001b[0m\u001b[0mself\u001b[0m\u001b[1;33m.\u001b[0m\u001b[0mitems\u001b[0m\u001b[1;33m)\u001b[0m\u001b[1;33m)\u001b[0m\u001b[1;33m[\u001b[0m\u001b[0misnull\u001b[0m\u001b[1;33m(\u001b[0m\u001b[0mself\u001b[0m\u001b[1;33m.\u001b[0m\u001b[0mitems\u001b[0m\u001b[1;33m)\u001b[0m\u001b[1;33m]\u001b[0m\u001b[1;33m\u001b[0m\u001b[0m\n",
      "\u001b[1;32mC:\\Anaconda3\\lib\\site-packages\\pandas\\core\\indexes\\base.py\u001b[0m in \u001b[0;36mget_loc\u001b[1;34m(self, key, method, tolerance)\u001b[0m\n\u001b[0;32m   2393\u001b[0m                 \u001b[1;32mreturn\u001b[0m \u001b[0mself\u001b[0m\u001b[1;33m.\u001b[0m\u001b[0m_engine\u001b[0m\u001b[1;33m.\u001b[0m\u001b[0mget_loc\u001b[0m\u001b[1;33m(\u001b[0m\u001b[0mkey\u001b[0m\u001b[1;33m)\u001b[0m\u001b[1;33m\u001b[0m\u001b[0m\n\u001b[0;32m   2394\u001b[0m             \u001b[1;32mexcept\u001b[0m \u001b[0mKeyError\u001b[0m\u001b[1;33m:\u001b[0m\u001b[1;33m\u001b[0m\u001b[0m\n\u001b[1;32m-> 2395\u001b[1;33m                 \u001b[1;32mreturn\u001b[0m \u001b[0mself\u001b[0m\u001b[1;33m.\u001b[0m\u001b[0m_engine\u001b[0m\u001b[1;33m.\u001b[0m\u001b[0mget_loc\u001b[0m\u001b[1;33m(\u001b[0m\u001b[0mself\u001b[0m\u001b[1;33m.\u001b[0m\u001b[0m_maybe_cast_indexer\u001b[0m\u001b[1;33m(\u001b[0m\u001b[0mkey\u001b[0m\u001b[1;33m)\u001b[0m\u001b[1;33m)\u001b[0m\u001b[1;33m\u001b[0m\u001b[0m\n\u001b[0m\u001b[0;32m   2396\u001b[0m \u001b[1;33m\u001b[0m\u001b[0m\n\u001b[0;32m   2397\u001b[0m         \u001b[0mindexer\u001b[0m \u001b[1;33m=\u001b[0m \u001b[0mself\u001b[0m\u001b[1;33m.\u001b[0m\u001b[0mget_indexer\u001b[0m\u001b[1;33m(\u001b[0m\u001b[1;33m[\u001b[0m\u001b[0mkey\u001b[0m\u001b[1;33m]\u001b[0m\u001b[1;33m,\u001b[0m \u001b[0mmethod\u001b[0m\u001b[1;33m=\u001b[0m\u001b[0mmethod\u001b[0m\u001b[1;33m,\u001b[0m \u001b[0mtolerance\u001b[0m\u001b[1;33m=\u001b[0m\u001b[0mtolerance\u001b[0m\u001b[1;33m)\u001b[0m\u001b[1;33m\u001b[0m\u001b[0m\n",
      "\u001b[1;32mpandas\\_libs\\index.pyx\u001b[0m in \u001b[0;36mpandas._libs.index.IndexEngine.get_loc (pandas\\_libs\\index.c:5239)\u001b[1;34m()\u001b[0m\n",
      "\u001b[1;32mpandas\\_libs\\index.pyx\u001b[0m in \u001b[0;36mpandas._libs.index.IndexEngine.get_loc (pandas\\_libs\\index.c:5085)\u001b[1;34m()\u001b[0m\n",
      "\u001b[1;32mpandas\\_libs\\hashtable_class_helper.pxi\u001b[0m in \u001b[0;36mpandas._libs.hashtable.PyObjectHashTable.get_item (pandas\\_libs\\hashtable.c:20405)\u001b[1;34m()\u001b[0m\n",
      "\u001b[1;32mpandas\\_libs\\hashtable_class_helper.pxi\u001b[0m in \u001b[0;36mpandas._libs.hashtable.PyObjectHashTable.get_item (pandas\\_libs\\hashtable.c:20359)\u001b[1;34m()\u001b[0m\n",
      "\u001b[1;31mKeyError\u001b[0m: 'Acquistions'"
     ],
     "output_type": "error"
    },
    {
     "data": {
      "image/png": "[encoded data removed]",
      "text/plain": [
       "<matplotlib.figure.Figure at 0x1e1e75995c0>"
      ]
     },
     "metadata": {},
     "output_type": "display_data"
    }
   ],
   "source": [
    "fig, ax1 = plt.subplots()\n",
    "ax2 = ax1.twinx()\n",
    "\n",
    "df['Acquistions'].plot(kind='bar', figsize=(15,10), ax =ax1, title='Acquisitions by area')\n",
    "\n",
    "plt.show()"
   ]
  },
  {
   "cell_type": "code",
   "execution_count": 50,
   "metadata": {
    "collapsed": false
   },
   "outputs": [
    {
     "data": {
      "text/plain": [
       "<module 'matplotlib.figure' from 'C:\\\\Anaconda3\\\\lib\\\\site-packages\\\\matplotlib\\\\figure.py'>"
      ]
     },
     "execution_count": 50,
     "metadata": {},
     "output_type": "execute_result"
    }
   ],
   "source": [
    "plt.figure.figure"
   ]
  },
  {
   "cell_type": "code",
   "execution_count": null,
   "metadata": {
    "collapsed": true
   },
   "outputs": [],
   "source": [
    ""
   ]
  }
 ],
 "metadata": {
  "anaconda-cloud": {},
  "kernelspec": {
   "display_name": "Python [conda root]",
   "language": "python",
   "name": "conda-root-py"
  },
  "language_info": {
   "codemirror_mode": {
    "name": "ipython",
    "version": 3.0
   },
   "file_extension": ".py",
   "mimetype": "text/x-python",
   "name": "python",
   "nbconvert_exporter": "python",
   "pygments_lexer": "ipython3",
   "version": "3.5.2"
  }
 },
 "nbformat": 4,
 "nbformat_minor": 0
}