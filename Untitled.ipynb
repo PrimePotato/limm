{
 "cells": [
  {
   "cell_type": "code",
   "execution_count": 1,
   "metadata": {
    "collapsed": true
   },
   "outputs": [],
   "source": [
    "import email_fetch as ef"
   ]
  },
  {
   "cell_type": "code",
   "execution_count": 2,
   "metadata": {
    "collapsed": true
   },
   "outputs": [],
   "source": [
    "ex = ef.Extractor('robert.cooper@peppercorn.london', 'C0ntent123qwerty')"
   ]
  },
  {
   "cell_type": "code",
   "execution_count": 3,
   "metadata": {
    "collapsed": false,
    "scrolled": true
   },
   "outputs": [
    {
     "data": {
      "text/plain": [
       "[b'308',\n",
       " b'309',\n",
       " b'310',\n",
       " b'311',\n",
       " b'312',\n",
       " b'313',\n",
       " b'314',\n",
       " b'315',\n",
       " b'316',\n",
       " b'317',\n",
       " b'318',\n",
       " b'319',\n",
       " b'320',\n",
       " b'321',\n",
       " b'322',\n",
       " b'323',\n",
       " b'324',\n",
       " b'325',\n",
       " b'326',\n",
       " b'327',\n",
       " b'328',\n",
       " b'329',\n",
       " b'330',\n",
       " b'331',\n",
       " b'332',\n",
       " b'333',\n",
       " b'334',\n",
       " b'335',\n",
       " b'336',\n",
       " b'337',\n",
       " b'338',\n",
       " b'339',\n",
       " b'340',\n",
       " b'341',\n",
       " b'342',\n",
       " b'343',\n",
       " b'344',\n",
       " b'345',\n",
       " b'346',\n",
       " b'347',\n",
       " b'348',\n",
       " b'349',\n",
       " b'350',\n",
       " b'351',\n",
       " b'352',\n",
       " b'353',\n",
       " b'354',\n",
       " b'355',\n",
       " b'356',\n",
       " b'357',\n",
       " b'358',\n",
       " b'359',\n",
       " b'360',\n",
       " b'361',\n",
       " b'362',\n",
       " b'363',\n",
       " b'364',\n",
       " b'365',\n",
       " b'366',\n",
       " b'367',\n",
       " b'368',\n",
       " b'369',\n",
       " b'370',\n",
       " b'371',\n",
       " b'372',\n",
       " b'373',\n",
       " b'374',\n",
       " b'375',\n",
       " b'376',\n",
       " b'377',\n",
       " b'378',\n",
       " b'379',\n",
       " b'380',\n",
       " b'381',\n",
       " b'382',\n",
       " b'383',\n",
       " b'384',\n",
       " b'385',\n",
       " b'386',\n",
       " b'387',\n",
       " b'388',\n",
       " b'389',\n",
       " b'390',\n",
       " b'391',\n",
       " b'392',\n",
       " b'393',\n",
       " b'394',\n",
       " b'395',\n",
       " b'396',\n",
       " b'397',\n",
       " b'398',\n",
       " b'399',\n",
       " b'400',\n",
       " b'401',\n",
       " b'402',\n",
       " b'403',\n",
       " b'404',\n",
       " b'405',\n",
       " b'406',\n",
       " b'407',\n",
       " b'408',\n",
       " b'409',\n",
       " b'410',\n",
       " b'411',\n",
       " b'412',\n",
       " b'413',\n",
       " b'414',\n",
       " b'415',\n",
       " b'416',\n",
       " b'417',\n",
       " b'418',\n",
       " b'419',\n",
       " b'420',\n",
       " b'421',\n",
       " b'422',\n",
       " b'423',\n",
       " b'424',\n",
       " b'425',\n",
       " b'426',\n",
       " b'427',\n",
       " b'428',\n",
       " b'429',\n",
       " b'430',\n",
       " b'431',\n",
       " b'432',\n",
       " b'433',\n",
       " b'434',\n",
       " b'435',\n",
       " b'436',\n",
       " b'437',\n",
       " b'438',\n",
       " b'439',\n",
       " b'440',\n",
       " b'441',\n",
       " b'442',\n",
       " b'443',\n",
       " b'444',\n",
       " b'445',\n",
       " b'446',\n",
       " b'447',\n",
       " b'448',\n",
       " b'449',\n",
       " b'450',\n",
       " b'451',\n",
       " b'452',\n",
       " b'453',\n",
       " b'454',\n",
       " b'455',\n",
       " b'456',\n",
       " b'457',\n",
       " b'458',\n",
       " b'459',\n",
       " b'460',\n",
       " b'461',\n",
       " b'462',\n",
       " b'463',\n",
       " b'464',\n",
       " b'465',\n",
       " b'466',\n",
       " b'467',\n",
       " b'468',\n",
       " b'469',\n",
       " b'470',\n",
       " b'471',\n",
       " b'472',\n",
       " b'473',\n",
       " b'474',\n",
       " b'475',\n",
       " b'476',\n",
       " b'477',\n",
       " b'478',\n",
       " b'479',\n",
       " b'480',\n",
       " b'481',\n",
       " b'482',\n",
       " b'483',\n",
       " b'484',\n",
       " b'485',\n",
       " b'487',\n",
       " b'488',\n",
       " b'489',\n",
       " b'490',\n",
       " b'491',\n",
       " b'492',\n",
       " b'495',\n",
       " b'496',\n",
       " b'497',\n",
       " b'498',\n",
       " b'499',\n",
       " b'500',\n",
       " b'503',\n",
       " b'504']"
      ]
     },
     "execution_count": 3,
     "metadata": {},
     "output_type": "execute_result"
    }
   ],
   "source": [
    "ex.uids"
   ]
  },
  {
   "cell_type": "code",
   "execution_count": 4,
   "metadata": {
    "collapsed": false,
    "scrolled": false
   },
   "outputs": [
    {
     "name": "stdout",
     "output_type": "stream",
     "text": [
      "Moving emails with UIDs [b'308', b'309', b'310', b'311', b'312', b'313', b'314', b'315', b'316', b'317', b'318', b'319', b'320', b'321', b'322', b'323', b'324', b'325', b'326', b'327', b'328', b'329', b'330', b'331', b'332', b'333', b'334', b'335', b'336', b'337', b'338', b'339', b'340', b'341', b'342', b'343', b'344', b'345', b'346', b'347', b'348', b'349', b'350', b'351', b'352', b'353', b'354', b'355', b'356', b'357', b'358', b'359', b'360', b'361', b'362', b'363', b'364', b'365', b'366', b'367', b'368', b'369', b'370', b'371', b'372', b'373', b'374', b'375', b'376', b'377', b'378', b'379', b'380', b'381', b'382', b'383', b'384', b'385', b'386', b'387', b'388', b'389', b'390', b'391', b'392', b'393', b'394', b'395', b'396', b'397', b'398', b'399', b'400', b'401', b'402', b'403', b'404', b'405', b'406', b'407', b'408', b'409', b'410', b'411', b'412', b'413', b'414', b'415', b'416', b'417', b'418', b'419', b'420', b'421', b'422', b'423', b'424', b'425', b'426', b'427', b'428', b'429', b'430', b'431', b'432', b'433', b'434', b'435', b'436', b'437', b'438', b'439', b'440', b'441', b'442', b'443', b'444', b'445', b'446', b'447', b'448', b'449', b'450', b'451', b'452', b'453', b'454', b'455', b'456', b'457', b'458', b'459', b'460', b'461', b'462', b'463', b'464', b'465', b'466', b'467', b'468', b'469', b'470', b'471', b'472', b'473', b'474', b'475', b'476', b'477', b'478', b'479', b'480', b'481', b'482', b'483', b'484', b'485', b'487', b'488', b'489', b'490', b'491', b'492', b'495', b'496', b'497', b'498', b'499', b'500', b'503', b'504'] from Inbox to Accepted\n"
     ]
    }
   ],
   "source": [
    "ex.move_accepted()"
   ]
  },
  {
   "cell_type": "code",
   "execution_count": 1,
   "metadata": {
    "collapsed": false
   },
   "outputs": [
    {
     "data": {
      "text/plain": [
       "123"
      ]
     },
     "execution_count": 1,
     "metadata": {},
     "output_type": "execute_result"
    }
   ],
   "source": [
    "123"
   ]
  },
  {
   "cell_type": "code",
   "execution_count": 2,
   "metadata": {
    "collapsed": true
   },
   "outputs": [],
   "source": [
    "a = 123"
   ]
  },
  {
   "cell_type": "code",
   "execution_count": 3,
   "metadata": {
    "collapsed": true
   },
   "outputs": [],
   "source": [
    "b = 343"
   ]
  },
  {
   "cell_type": "code",
   "execution_count": 4,
   "metadata": {
    "collapsed": false
   },
   "outputs": [
    {
     "data": {
      "text/plain": [
       "0.358600583090379"
      ]
     },
     "execution_count": 4,
     "metadata": {},
     "output_type": "execute_result"
    }
   ],
   "source": [
    "a/b"
   ]
  },
  {
   "cell_type": "code",
   "execution_count": 5,
   "metadata": {
    "collapsed": false
   },
   "outputs": [
    {
     "data": {
      "text/plain": [
       "2.7886178861788617"
      ]
     },
     "execution_count": 5,
     "metadata": {},
     "output_type": "execute_result"
    }
   ],
   "source": [
    "b/a"
   ]
  },
  {
   "cell_type": "code",
   "execution_count": 7,
   "metadata": {
    "collapsed": false
   },
   "outputs": [
    {
     "data": {
      "text/plain": [
       "0.358600583090379"
      ]
     },
     "execution_count": 7,
     "metadata": {},
     "output_type": "execute_result"
    }
   ],
   "source": [
    "a/b%1"
   ]
  },
  {
   "cell_type": "code",
   "execution_count": 9,
   "metadata": {
    "collapsed": false
   },
   "outputs": [
    {
     "data": {
      "text/plain": [
       "(2.0, 0.7886178861788617)"
      ]
     },
     "execution_count": 9,
     "metadata": {},
     "output_type": "execute_result"
    }
   ],
   "source": [
    "divmod(b/a,1)"
   ]
  },
  {
   "cell_type": "code",
   "execution_count": 12,
   "metadata": {
    "collapsed": false
   },
   "outputs": [
    {
     "data": {
      "text/plain": [
       "1.0"
      ]
     },
     "execution_count": 12,
     "metadata": {},
     "output_type": "execute_result"
    }
   ],
   "source": [
    "divmod((a/b)*4,1)[0]"
   ]
  },
  {
   "cell_type": "code",
   "execution_count": 13,
   "metadata": {
    "collapsed": false
   },
   "outputs": [
    {
     "data": {
      "text/plain": [
       "2.0"
      ]
     },
     "execution_count": 13,
     "metadata": {},
     "output_type": "execute_result"
    }
   ],
   "source": [
    "divmod((100/250)*16,1)[0]%4"
   ]
  },
  {
   "cell_type": "code",
   "execution_count": 17,
   "metadata": {
    "collapsed": false
   },
   "outputs": [
    {
     "data": {
      "text/plain": [
       "1.0"
      ]
     },
     "execution_count": 17,
     "metadata": {},
     "output_type": "execute_result"
    }
   ],
   "source": [
    "divmod((100/250)*16,1)[0]"
   ]
  },
  {
   "cell_type": "code",
   "execution_count": null,
   "metadata": {
    "collapsed": true
   },
   "outputs": [],
   "source": []
  }
 ],
 "metadata": {
  "anaconda-cloud": {},
  "kernelspec": {
   "display_name": "Python [conda root]",
   "language": "python",
   "name": "conda-root-py"
  },
  "language_info": {
   "codemirror_mode": {
    "name": "ipython",
    "version": 3
   },
   "file_extension": ".py",
   "mimetype": "text/x-python",
   "name": "python",
   "nbconvert_exporter": "python",
   "pygments_lexer": "ipython3",
   "version": "3.5.2"
  }
 },
 "nbformat": 4,
 "nbformat_minor": 2
}
